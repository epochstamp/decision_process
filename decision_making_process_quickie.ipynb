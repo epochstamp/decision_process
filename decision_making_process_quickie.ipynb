{
 "nbformat": 4,
 "nbformat_minor": 2,
 "metadata": {
  "language_info": {
   "name": "python",
   "codemirror_mode": {
    "name": "ipython",
    "version": 3
   },
   "version": "3.7.5"
  },
  "orig_nbformat": 2,
  "file_extension": ".py",
  "mimetype": "text/x-python",
  "name": "python",
  "npconvert_exporter": "python",
  "pygments_lexer": "ipython3",
  "version": 3
 },
 "cells": [
  {
   "cell_type": "markdown",
   "execution_count": 3,
   "metadata": {},
   "outputs": [
    {
     "name": "stdout",
     "output_type": "stream",
     "text": "gros quickie\n"
    }
   ],
   "source": [
    "# Decision process making : A quickie\n",
    "\n",
    "In this notebook, we provide a quick walkthrough on the building process of a Sequential Decision Process (SDP) through this library.\n",
    "Our study case will be a very dummy decision process with a single bounded state variable 's' and a single bounded action variable 'a'.\n",
    "The dynamics is just s' = s + a and the cost function is p*-s' where p is a parameter.\n",
    "Analytically, this means that a will be chosen to be its extremum value (which side depends on the parameter sign) at each time since it always yields the global optimal of the objective function.\n",
    "\n",
    "Let us first build our variables:"
   ]
  },
  {
   "cell_type": "code",
   "execution_count": 40,
   "metadata": {},
   "outputs": [
    {
     "name": "stdout",
     "output_type": "stream",
     "text": "{'id': 'a5748e92-5261-4998-824f-665bda4f39f2', 'shape': (), 'v_type': <Type.REAL: (-inf, inf)>, 'support': (-1000.0, 1000.0)}\n{'id': '6b40757a-c303-4851-9821-aee330e1b038', 'shape': (), 'v_type': <Type.REAL: (-inf, inf)>, 'support': (-1000.0, 1000.0)}\n{'id': '31cab5e4-e67a-4fd6-83f0-54c9601baef0', 'shape': ()}\n"
    }
   ],
   "source": [
    "from decision_process_components.variable import Variable\n",
    "from decision_process_components.parameter import Parameter\n",
    "\n",
    "s = Variable(support=(-1000, 1000))\n",
    "a = Variable(support=(-1000, 1000))\n",
    "p = Parameter()\n",
    "\n",
    "# Notice how we can easily get a DTO from the variables and parameters\n",
    "print(s.get_data().dict())\n",
    "print(a.get_data().dict())\n",
    "print(p.get_data().dict())"
   ]
  },
  {
   "cell_type": "markdown",
   "execution_count": 4,
   "metadata": {},
   "outputs": [
    {
     "ename": "SyntaxError",
     "evalue": "invalid syntax (<ipython-input-4-c6128b3a7d45>, line 1)",
     "output_type": "error",
     "traceback": [
      "\u001b[0;36m  File \u001b[0;32m\"<ipython-input-4-c6128b3a7d45>\"\u001b[0;36m, line \u001b[0;32m1\u001b[0m\n\u001b[0;31m    Now we create our dynamics\u001b[0m\n\u001b[0m         ^\u001b[0m\n\u001b[0;31mSyntaxError\u001b[0m\u001b[0;31m:\u001b[0m invalid syntax\n"
     ]
    }
   ],
   "source": [
    "Notice how variables have unique ids when the latter is not specified. You can define them using id field in the constructor to facilitate model debugging.\n",
    "\n",
    "Now we create our dynamics:"
   ]
  },
  {
   "cell_type": "code",
   "execution_count": 41,
   "metadata": {},
   "outputs": [],
   "source": [
    "from decision_process_components.dynamics import Dynamics\n",
    "\n",
    "# This dynamics might be seen as s_{t+1} = s_t + a_{t+1}\n",
    "d = Dynamics(s, s + a)"
   ]
  },
  {
   "cell_type": "markdown",
   "execution_count": null,
   "metadata": {},
   "outputs": [],
   "source": [
    "Now let us imagine that we are not quite satisfied with the support of the action variable, which may be too permissive. We now build a constraint to squeeze a little bit that guy:"
   ]
  },
  {
   "cell_type": "code",
   "execution_count": 42,
   "metadata": {},
   "outputs": [],
   "source": [
    "from decision_process_components.constraint import Constraint\n",
    "\n",
    "maxp = Parameter()\n",
    "# This constraint might be seen as a_t <= maxp_t\n",
    "# (Note that a sequential parameter might be a repetitive constant)\n",
    "c = Constraint(a <= maxp)"
   ]
  },
  {
   "cell_type": "markdown",
   "execution_count": null,
   "metadata": {},
   "outputs": [],
   "source": [
    "Now, could we constraint the parameter itself ? Let us check:"
   ]
  },
  {
   "cell_type": "code",
   "execution_count": 43,
   "metadata": {},
   "outputs": [
    {
     "name": "stdout",
     "output_type": "stream",
     "text": "Blocked !\nNo variable is involved in the current constraint. This is problematic in a decision process since the parameters are fixed in advance.\n"
    }
   ],
   "source": [
    "from decision_process_components.variable import NoVariableInvolvedError\n",
    "\n",
    "maxp2 = Parameter()\n",
    "try:\n",
    "    c2 = Constraint(maxp <= maxp2)\n",
    "except NoVariableInvolvedError as e:\n",
    "    print(\"Blocked !\")\n",
    "    print(e)"
   ]
  },
  {
   "cell_type": "markdown",
   "execution_count": null,
   "metadata": {},
   "outputs": [],
   "source": [
    "This has been blocked. This is expected since the value of the parameter comes from an external source (more on that later). A constraint should always involves variables.\n",
    "\n",
    "Now let us go on and specify our cost function:"
   ]
  },
  {
   "cell_type": "code",
   "execution_count": 44,
   "metadata": {},
   "outputs": [],
   "source": [
    "from decision_process_components.cost_function import CostFunction, LastTimeStepMask\n",
    "\n",
    "r = CostFunction(p*s, horizon_mask=LastTimeStepMask())"
   ]
  },
  {
   "cell_type": "markdown",
   "execution_count": null,
   "metadata": {},
   "outputs": [],
   "source": [
    "So far we have gathered all the pieces of our puzzle. Let us now fully build our decision process model:"
   ]
  },
  {
   "cell_type": "code",
   "execution_count": 45,
   "metadata": {},
   "outputs": [
    {
     "name": "stdout",
     "output_type": "stream",
     "text": "Decision process built\n"
    }
   ],
   "source": [
    "from decision_process import DecisionProcess\n",
    "\n",
    "sdp = DecisionProcess(\"my_first_sdp\")\n",
    "\n",
    "sdp.add_state_variables(s)\n",
    "sdp.add_action_variables(a)\n",
    "# Helper variables (i.e., variables that are neither state and action but might come handy in a solution to perform some stuff with later on)\n",
    "sdp.add_parameters(p, maxp)\n",
    "sdp.add_dynamics_functions(d)\n",
    "sdp.add_constraint_functions(c)\n",
    "sdp.add_cost_functions(r)\n",
    "\n",
    "print(\"Decision process built\")"
   ]
  },
  {
   "cell_type": "markdown",
   "execution_count": null,
   "metadata": {},
   "outputs": [],
   "source": [
    "Finally, we validate our decision process model:"
   ]
  },
  {
   "cell_type": "code",
   "execution_count": 46,
   "metadata": {},
   "outputs": [
    {
     "data": {
      "text/plain": "True"
     },
     "execution_count": 46,
     "metadata": {},
     "output_type": "execute_result"
    }
   ],
   "source": [
    "sdp.validate()"
   ]
  },
  {
   "cell_type": "markdown",
   "execution_count": null,
   "metadata": {},
   "outputs": [],
   "source": [
    "Yay! Our decision process pass all the tests. You can refer to the DecisionProcess docstring to see all the security checks, but let us exhibit one of them here. Suppose that we dare to use a non-defined variable in, say, a constraint:"
   ]
  },
  {
   "cell_type": "code",
   "execution_count": 47,
   "metadata": {},
   "outputs": [
    {
     "name": "stdout",
     "output_type": "stream",
     "text": "blocked\n{'e629505b-09de-4337-975a-9d8fb29a5400'} variable(s) not defined in the decision process. Use add_state_variable, add_action_variable or even add_helper_variable if this is intended (according to the role(s) of the variable(s))\n"
    }
   ],
   "source": [
    "from decision_process import NotDefinedVariableError\n",
    "\n",
    "try:\n",
    "    sdp.add_constraint_functions(Constraint(Variable() >= p))\n",
    "except NotDefinedVariableError as e:\n",
    "    print(\"blocked\")\n",
    "    print(e)"
   ]
  },
  {
   "cell_type": "markdown",
   "execution_count": null,
   "metadata": {},
   "outputs": [],
   "source": [
    "That's all folks. Well, that's all for decision processes. In a future notebook, we'll see how to actually obtain a realisation of this very dummy decision process, and to see that it outputs the solution that we have provided in an analytical form at the beginning of this notebook."
   ]
  }
 ]
}